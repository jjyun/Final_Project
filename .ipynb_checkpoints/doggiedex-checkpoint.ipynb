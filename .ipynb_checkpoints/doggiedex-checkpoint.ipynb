{
 "cells": [
  {
   "cell_type": "markdown",
   "metadata": {},
   "source": [
    "# DoggieDex"
   ]
  },
  {
   "cell_type": "markdown",
   "metadata": {},
   "source": [
    "## Import dependencies"
   ]
  },
  {
   "cell_type": "code",
   "execution_count": 3,
   "metadata": {},
   "outputs": [],
   "source": [
    "from keras.preprocessing.image import img_to_array\n",
    "from keras.models import load_model\n",
    "import numpy as np\n",
    "import imutils\n",
    "import pickle\n",
    "import cv2\n",
    "import os"
   ]
  },
  {
   "cell_type": "markdown",
   "metadata": {},
   "source": [
    "## Read image\n",
    "1. Use openCV to read in and copy the image\n",
    "2. Process the image into data points"
   ]
  },
  {
   "cell_type": "code",
   "execution_count": 16,
   "metadata": {},
   "outputs": [],
   "source": [
    "# load the image\n",
    "testImage = \"test/chihuahua.jpg\"\n",
    "image = cv2.imread(testImage)\n",
    "output = image.copy()\n",
    "\n",
    "# pre-process the image for classification\n",
    "image = cv2.resize(image, (96, 96))\n",
    "image = image.astype(\"float\") / 255.0\n",
    "image = img_to_array(image)\n",
    "image = np.expand_dims(image, axis=0)"
   ]
  },
  {
   "cell_type": "markdown",
   "metadata": {},
   "source": [
    "## Load the model and label files from the training"
   ]
  },
  {
   "cell_type": "code",
   "execution_count": 11,
   "metadata": {},
   "outputs": [
    {
     "name": "stdout",
     "output_type": "stream",
     "text": [
      "----------------------------------\n",
      "--- Load the Model/Label Files ---\n",
      "----------------------------------\n"
     ]
    }
   ],
   "source": [
    "# load the saved files from training\n",
    "print(\"----------------------------------\")\n",
    "print(\"--- Load the Model/Label Files ---\")\n",
    "print(\"----------------------------------\")\n",
    "model = load_model(\"jupyterModel\")\n",
    "lb = pickle.loads(open(\"jupyterLabels\", \"rb\").read())"
   ]
  },
  {
   "cell_type": "markdown",
   "metadata": {},
   "source": [
    "## Create a prediction and label\n",
    "1. Create a prediction by calling on model from Keras\n",
    "2. Use argmax to return max prediction\n",
    "3. Use the indices to encode the label"
   ]
  },
  {
   "cell_type": "code",
   "execution_count": 25,
   "metadata": {},
   "outputs": [
    {
     "name": "stdout",
     "output_type": "stream",
     "text": [
      "---------------------------------\n",
      "------ Reviewing the image ------\n",
      "---------------------------------\n"
     ]
    }
   ],
   "source": [
    "# classify the input image\n",
    "print(\"---------------------------------\")\n",
    "print(\"------ Reviewing the image ------\")\n",
    "print(\"---------------------------------\")\n",
    "\n",
    "prediction = model.predict(image)[0]\n",
    "indices = np.argmax(prediction)\n",
    "label = lb.classes_[indices]"
   ]
  },
  {
   "cell_type": "code",
   "execution_count": 26,
   "metadata": {},
   "outputs": [],
   "source": [
    "filename = testImage[testImage.rfind(os.path.sep) + 1:]"
   ]
  },
  {
   "cell_type": "code",
   "execution_count": 32,
   "metadata": {},
   "outputs": [
    {
     "data": {
      "text/plain": [
       "array([[[ 49,  85,  55],\n",
       "        [ 47,  83,  53],\n",
       "        [ 47,  83,  53],\n",
       "        ...,\n",
       "        [ 52,  94,  63],\n",
       "        [ 52,  94,  63],\n",
       "        [ 53,  95,  64]],\n",
       "\n",
       "       [[ 48,  84,  54],\n",
       "        [ 46,  82,  52],\n",
       "        [ 47,  83,  53],\n",
       "        ...,\n",
       "        [ 51,  93,  62],\n",
       "        [ 51,  93,  62],\n",
       "        [ 53,  95,  64]],\n",
       "\n",
       "       [[ 48,  84,  54],\n",
       "        [ 46,  82,  52],\n",
       "        [ 46,  82,  52],\n",
       "        ...,\n",
       "        [ 51,  93,  62],\n",
       "        [ 51,  93,  62],\n",
       "        [ 51,  93,  62]],\n",
       "\n",
       "       ...,\n",
       "\n",
       "       [[ 57, 118,  90],\n",
       "        [ 60, 120,  92],\n",
       "        [ 66, 132, 103],\n",
       "        ...,\n",
       "        [ 55, 131, 102],\n",
       "        [ 54, 129, 100],\n",
       "        [ 52, 126,  98]],\n",
       "\n",
       "       [[ 59, 125,  95],\n",
       "        [ 59, 123,  93],\n",
       "        [ 69, 138, 107],\n",
       "        ...,\n",
       "        [ 64, 142, 114],\n",
       "        [ 58, 133, 106],\n",
       "        [ 57, 133, 105]],\n",
       "\n",
       "       [[ 65, 131, 100],\n",
       "        [ 65, 129,  99],\n",
       "        [ 71, 140, 109],\n",
       "        ...,\n",
       "        [ 65, 149, 121],\n",
       "        [ 60, 140, 113],\n",
       "        [ 57, 135, 107]]], dtype=uint8)"
      ]
     },
     "execution_count": 32,
     "metadata": {},
     "output_type": "execute_result"
    }
   ],
   "source": [
    "# build the label and draw the label on the image\n",
    "label = \"{}: {:.2f}%\".format(label, proba[idx] * 100)\n",
    "output = imutils.resize(output, width=400)\n",
    "cv2.putText(output, label, (10, 25), cv2.FONT_HERSHEY_SIMPLEX,\n",
    "\t0.7, (0, 255, 0), 2)"
   ]
  },
  {
   "cell_type": "markdown",
   "metadata": {},
   "source": [
    "## Export a labeled image"
   ]
  },
  {
   "cell_type": "code",
   "execution_count": null,
   "metadata": {
    "scrolled": false
   },
   "outputs": [],
   "source": [
    "# show the output image\n",
    "print(\"This dog is a: \" + label)\n",
    "cv2.imshow(\"Output\", output)\n",
    "cv2.waitKey(0)"
   ]
  }
 ],
 "metadata": {
  "kernelspec": {
   "display_name": "Python 3",
   "language": "python",
   "name": "python3"
  },
  "language_info": {
   "codemirror_mode": {
    "name": "ipython",
    "version": 3
   },
   "file_extension": ".py",
   "mimetype": "text/x-python",
   "name": "python",
   "nbconvert_exporter": "python",
   "pygments_lexer": "ipython3",
   "version": "3.6.8"
  }
 },
 "nbformat": 4,
 "nbformat_minor": 2
}
